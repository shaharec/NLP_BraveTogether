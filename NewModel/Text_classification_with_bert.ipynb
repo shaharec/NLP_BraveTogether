{
  "nbformat": 4,
  "nbformat_minor": 0,
  "metadata": {
    "colab": {
      "name": "Text_classification_with_bert.ipynb",
      "provenance": [],
      "collapsed_sections": [],
      "include_colab_link": true
    },
    "kernelspec": {
      "name": "python3",
      "display_name": "Python 3"
    },
    "language_info": {
      "name": "python"
    }
  },
  "cells": [
    {
      "cell_type": "markdown",
      "metadata": {
        "id": "view-in-github",
        "colab_type": "text"
      },
      "source": [
        "<a href=\"https://colab.research.google.com/github/shaharec/NLP_BraveTogether/blob/main/NewModel/Text_classification_with_bert.ipynb\" target=\"_parent\"><img src=\"https://colab.research.google.com/assets/colab-badge.svg\" alt=\"Open In Colab\"/></a>"
      ]
    },
    {
      "cell_type": "code",
      "metadata": {
        "colab": {
          "base_uri": "https://localhost:8080/"
        },
        "id": "YEebFcjwByZ3",
        "outputId": "4a6f1572-5925-4094-bed1-30cd1188741f"
      },
      "source": [
        "!git clone \"https://github.com/Brave-Together/NLP_HolocaustDenial.git\""
      ],
      "execution_count": null,
      "outputs": [
        {
          "output_type": "stream",
          "name": "stdout",
          "text": [
            "fatal: destination path 'NLP_HolocaustDenial' already exists and is not an empty directory.\n"
          ]
        }
      ]
    },
    {
      "cell_type": "code",
      "metadata": {
        "id": "iNefOpWkDy0v"
      },
      "source": [
        "# import libraries\n",
        "import pandas as pd\n",
        "import tensorflow as tf"
      ],
      "execution_count": null,
      "outputs": []
    },
    {
      "cell_type": "markdown",
      "metadata": {
        "id": "F88foOUyEmwY"
      },
      "source": [
        "#Data frame \n",
        "- class - 1 for holocaust denial\n",
        "- class - 0 - None holocaust denial "
      ]
    },
    {
      "cell_type": "code",
      "metadata": {
        "colab": {
          "base_uri": "https://localhost:8080/"
        },
        "id": "FkaBt_lAEGcc",
        "outputId": "83bf9f13-4472-4250-b39e-61b3f01c1d78"
      },
      "source": [
        "df_labeld_data = pd.read_excel(\"/content/NLP_HolocaustDenial/NewModel/classified data.xlsx\");\n",
        "df_labeld_data.info"
      ],
      "execution_count": null,
      "outputs": [
        {
          "output_type": "execute_result",
          "data": {
            "text/plain": [
              "<bound method DataFrame.info of                                                    Data  ... Label.1\n",
              "0     Believe it or not, many people are so fearful ...  ...   Fake \n",
              "1     Whoever it was who said history repeats itself...  ...   Fake \n",
              "2     Another crucial thing to question is why denie...  ...   Fake \n",
              "3     It’s also worth pointing out that Israel is no...  ...   Fake \n",
              "4     However, the above statistics are either under...  ...   Fake \n",
              "...                                                 ...  ...     ...\n",
              "2520                                                NaN  ...    Fake\n",
              "2521                                                NaN  ...    Fake\n",
              "2522                                                NaN  ...    Fake\n",
              "2523                                                NaN  ...    Fake\n",
              "2524                                                NaN  ...    Fake\n",
              "\n",
              "[2525 rows x 6 columns]>"
            ]
          },
          "metadata": {},
          "execution_count": 43
        }
      ]
    },
    {
      "cell_type": "code",
      "metadata": {
        "id": "ddjP_tRwNuX0",
        "colab": {
          "base_uri": "https://localhost:8080/",
          "height": 422
        },
        "outputId": "8ab6d2ad-2a54-4643-d0f6-023690eccb5a"
      },
      "source": [
        "\n",
        "df_real = pd.concat([df_labeld_data.Data,df_labeld_data.Label],axis=1).dropna()\n",
        "df_fake = pd.concat([df_labeld_data[\"Data.1\"],df_labeld_data[\"Label.1\"]],axis=1).dropna()\n",
        "# fix columns names\n",
        "df_fake = df_fake.rename(columns = {\"Data.1\":\"Data\",\"Label.1\":\"Label\"})\n",
        "#create new df\n",
        "df = pd.concat([df_fake,df_real],axis = 0)\n",
        "#remove null values\n",
        "df = df.dropna()\n",
        "# change to binary\n",
        "df.Label = df.Label.replace({\"Fake \" : 1,\"Real\" : 0})\n",
        "df"
      ],
      "execution_count": null,
      "outputs": [
        {
          "output_type": "execute_result",
          "data": {
            "text/html": [
              "<div>\n",
              "<style scoped>\n",
              "    .dataframe tbody tr th:only-of-type {\n",
              "        vertical-align: middle;\n",
              "    }\n",
              "\n",
              "    .dataframe tbody tr th {\n",
              "        vertical-align: top;\n",
              "    }\n",
              "\n",
              "    .dataframe thead th {\n",
              "        text-align: right;\n",
              "    }\n",
              "</style>\n",
              "<table border=\"1\" class=\"dataframe\">\n",
              "  <thead>\n",
              "    <tr style=\"text-align: right;\">\n",
              "      <th></th>\n",
              "      <th>Data</th>\n",
              "      <th>Label</th>\n",
              "    </tr>\n",
              "  </thead>\n",
              "  <tbody>\n",
              "    <tr>\n",
              "      <th>0</th>\n",
              "      <td>My brothers, Hitler was good, it was the Musli...</td>\n",
              "      <td>1</td>\n",
              "    </tr>\n",
              "    <tr>\n",
              "      <th>1</th>\n",
              "      <td>People should be allowed to critique the offic...</td>\n",
              "      <td>1</td>\n",
              "    </tr>\n",
              "    <tr>\n",
              "      <th>2</th>\n",
              "      <td>There is a lot of things wrong with the whole ...</td>\n",
              "      <td>1</td>\n",
              "    </tr>\n",
              "    <tr>\n",
              "      <th>3</th>\n",
              "      <td>#holohoax is one of the main things keeping je...</td>\n",
              "      <td>1</td>\n",
              "    </tr>\n",
              "    <tr>\n",
              "      <th>4</th>\n",
              "      <td>Soviet Russia lied about this until 1990.It is...</td>\n",
              "      <td>1</td>\n",
              "    </tr>\n",
              "    <tr>\n",
              "      <th>...</th>\n",
              "      <td>...</td>\n",
              "      <td>...</td>\n",
              "    </tr>\n",
              "    <tr>\n",
              "      <th>2224</th>\n",
              "      <td>While important for students to know that Brit...</td>\n",
              "      <td>0</td>\n",
              "    </tr>\n",
              "    <tr>\n",
              "      <th>2225</th>\n",
              "      <td>Only 6.7% chose the most appropriate answer: t...</td>\n",
              "      <td>0</td>\n",
              "    </tr>\n",
              "    <tr>\n",
              "      <th>2226</th>\n",
              "      <td>When asked â€˜what happened when the British g...</td>\n",
              "      <td>0</td>\n",
              "    </tr>\n",
              "    <tr>\n",
              "      <th>2227</th>\n",
              "      <td>Another site to explore to learn more about Be...</td>\n",
              "      <td>0</td>\n",
              "    </tr>\n",
              "    <tr>\n",
              "      <th>2228</th>\n",
              "      <td>Survivor Mala Tribich, in 'A Child in the Holo...</td>\n",
              "      <td>0</td>\n",
              "    </tr>\n",
              "  </tbody>\n",
              "</table>\n",
              "<p>4735 rows × 2 columns</p>\n",
              "</div>"
            ],
            "text/plain": [
              "                                                   Data Label\n",
              "0     My brothers, Hitler was good, it was the Musli...     1\n",
              "1     People should be allowed to critique the offic...     1\n",
              "2     There is a lot of things wrong with the whole ...     1\n",
              "3     #holohoax is one of the main things keeping je...     1\n",
              "4     Soviet Russia lied about this until 1990.It is...     1\n",
              "...                                                 ...   ...\n",
              "2224  While important for students to know that Brit...     0\n",
              "2225  Only 6.7% chose the most appropriate answer: t...     0\n",
              "2226  When asked â€˜what happened when the British g...     0\n",
              "2227  Another site to explore to learn more about Be...     0\n",
              "2228  Survivor Mala Tribich, in 'A Child in the Holo...     0\n",
              "\n",
              "[4735 rows x 2 columns]"
            ]
          },
          "metadata": {},
          "execution_count": 125
        }
      ]
    },
    {
      "cell_type": "code",
      "metadata": {
        "id": "wANkFpjcEd8D",
        "colab": {
          "base_uri": "https://localhost:8080/",
          "height": 422
        },
        "outputId": "42e65285-dc53-4eff-a2c5-c3382fb5e694"
      },
      "source": [
        "df[df['Label']==1]"
      ],
      "execution_count": null,
      "outputs": [
        {
          "output_type": "execute_result",
          "data": {
            "text/html": [
              "<div>\n",
              "<style scoped>\n",
              "    .dataframe tbody tr th:only-of-type {\n",
              "        vertical-align: middle;\n",
              "    }\n",
              "\n",
              "    .dataframe tbody tr th {\n",
              "        vertical-align: top;\n",
              "    }\n",
              "\n",
              "    .dataframe thead th {\n",
              "        text-align: right;\n",
              "    }\n",
              "</style>\n",
              "<table border=\"1\" class=\"dataframe\">\n",
              "  <thead>\n",
              "    <tr style=\"text-align: right;\">\n",
              "      <th></th>\n",
              "      <th>Data</th>\n",
              "      <th>Label</th>\n",
              "    </tr>\n",
              "  </thead>\n",
              "  <tbody>\n",
              "    <tr>\n",
              "      <th>0</th>\n",
              "      <td>My brothers, Hitler was good, it was the Musli...</td>\n",
              "      <td>1</td>\n",
              "    </tr>\n",
              "    <tr>\n",
              "      <th>1</th>\n",
              "      <td>People should be allowed to critique the offic...</td>\n",
              "      <td>1</td>\n",
              "    </tr>\n",
              "    <tr>\n",
              "      <th>2</th>\n",
              "      <td>There is a lot of things wrong with the whole ...</td>\n",
              "      <td>1</td>\n",
              "    </tr>\n",
              "    <tr>\n",
              "      <th>3</th>\n",
              "      <td>#holohoax is one of the main things keeping je...</td>\n",
              "      <td>1</td>\n",
              "    </tr>\n",
              "    <tr>\n",
              "      <th>4</th>\n",
              "      <td>Soviet Russia lied about this until 1990.It is...</td>\n",
              "      <td>1</td>\n",
              "    </tr>\n",
              "    <tr>\n",
              "      <th>...</th>\n",
              "      <td>...</td>\n",
              "      <td>...</td>\n",
              "    </tr>\n",
              "    <tr>\n",
              "      <th>1348</th>\n",
              "      <td>#AmericaFirst #FireKusher #IStandWithAssad #bu...</td>\n",
              "      <td>1</td>\n",
              "    </tr>\n",
              "    <tr>\n",
              "      <th>1349</th>\n",
              "      <td>#AmericaFirst #FireKusher #IStandWithAssad #bu...</td>\n",
              "      <td>1</td>\n",
              "    </tr>\n",
              "    <tr>\n",
              "      <th>1350</th>\n",
              "      <td>#AmericaFirst #FireKusher #IStandWithAssad #bu...</td>\n",
              "      <td>1</td>\n",
              "    </tr>\n",
              "    <tr>\n",
              "      <th>1351</th>\n",
              "      <td>#AmericaFirst #FireKusher #IStandWithAssad #bu...</td>\n",
              "      <td>1</td>\n",
              "    </tr>\n",
              "    <tr>\n",
              "      <th>1352</th>\n",
              "      <td>RT @FrischArisch: The 4 stages of Kvetching. #...</td>\n",
              "      <td>1</td>\n",
              "    </tr>\n",
              "  </tbody>\n",
              "</table>\n",
              "<p>1353 rows × 2 columns</p>\n",
              "</div>"
            ],
            "text/plain": [
              "                                                   Data Label\n",
              "0     My brothers, Hitler was good, it was the Musli...     1\n",
              "1     People should be allowed to critique the offic...     1\n",
              "2     There is a lot of things wrong with the whole ...     1\n",
              "3     #holohoax is one of the main things keeping je...     1\n",
              "4     Soviet Russia lied about this until 1990.It is...     1\n",
              "...                                                 ...   ...\n",
              "1348  #AmericaFirst #FireKusher #IStandWithAssad #bu...     1\n",
              "1349  #AmericaFirst #FireKusher #IStandWithAssad #bu...     1\n",
              "1350  #AmericaFirst #FireKusher #IStandWithAssad #bu...     1\n",
              "1351  #AmericaFirst #FireKusher #IStandWithAssad #bu...     1\n",
              "1352  RT @FrischArisch: The 4 stages of Kvetching. #...     1\n",
              "\n",
              "[1353 rows x 2 columns]"
            ]
          },
          "metadata": {},
          "execution_count": 45
        }
      ]
    },
    {
      "cell_type": "code",
      "metadata": {
        "colab": {
          "base_uri": "https://localhost:8080/"
        },
        "id": "Vc9xJ54K1aSB",
        "outputId": "98d3e84e-879b-4466-90f5-31e00a75cc21"
      },
      "source": [
        "from google.colab import drive\n",
        "drive.mount('/content/drive')"
      ],
      "execution_count": null,
      "outputs": [
        {
          "output_type": "stream",
          "name": "stdout",
          "text": [
            "Mounted at /content/drive\n"
          ]
        }
      ]
    },
    {
      "cell_type": "code",
      "metadata": {
        "id": "0U_5Srh_VVQw",
        "colab": {
          "base_uri": "https://localhost:8080/"
        },
        "outputId": "d4ecfd23-9a9b-4852-a00d-a67491fb8c74"
      },
      "source": [
        "# natural language processing: n-gram ranking\n",
        "import re\n",
        "import unicodedata\n",
        "import nltk\n",
        "from nltk.corpus import stopwords\n",
        "# add appropriate words that will be ignored in the analysis\n",
        "ADDITIONAL_STOPWORDS = ['covfefe']\n",
        "nltk.download(\"wordnet\")\n",
        "nltk.download(\"stopwords\") \n",
        "\n",
        "import matplotlib.pyplot as plt\n"
      ],
      "execution_count": null,
      "outputs": [
        {
          "output_type": "stream",
          "name": "stdout",
          "text": [
            "[nltk_data] Downloading package wordnet to /root/nltk_data...\n",
            "[nltk_data]   Package wordnet is already up-to-date!\n",
            "[nltk_data] Downloading package stopwords to /root/nltk_data...\n",
            "[nltk_data]   Package stopwords is already up-to-date!\n"
          ]
        }
      ]
    },
    {
      "cell_type": "code",
      "metadata": {
        "id": "nsEWqIctWkdX"
      },
      "source": [
        "def basic_clean(text):\n",
        "  \"\"\"\n",
        "  A simple function to clean up the data. All the words that\n",
        "  are not designated as a stop word is then lemmatized after\n",
        "  encoding and basic regex parsing are performed.\n",
        "  \"\"\"\n",
        "  wnl = nltk.stem.WordNetLemmatizer()\n",
        "  stopwords = nltk.corpus.stopwords.words('english') + ADDITIONAL_STOPWORDS\n",
        "  text = (unicodedata.normalize('NFKD', text)\n",
        "    .encode('ascii', 'ignore')\n",
        "    .decode('utf-8', 'ignore')\n",
        "    .lower())\n",
        "  words = re.sub(r'[^\\w\\s]', '', text).split()\n",
        "  return [wnl.lemmatize(word) for word in words] # if word not in stopwords]"
      ],
      "execution_count": null,
      "outputs": []
    },
    {
      "cell_type": "code",
      "metadata": {
        "id": "jhCnwVaKWnrX"
      },
      "source": [
        "fake_words = basic_clean(''.join(str(df_fake['Data'].tolist())))\n",
        "real_words = basic_clean(''.join(str(df_real['Data'].tolist())))\n",
        "stopwords = nltk.corpus.stopwords.words('english') + ADDITIONAL_STOPWORDS\n",
        "stopwords"
      ],
      "execution_count": null,
      "outputs": []
    },
    {
      "cell_type": "code",
      "metadata": {
        "id": "YaBa8ASPXTJm"
      },
      "source": [
        "(pd.Series(nltk.ngrams(fake_words, 2)).value_counts())[:50]"
      ],
      "execution_count": null,
      "outputs": []
    },
    {
      "cell_type": "code",
      "metadata": {
        "id": "PuA8FCETeVuo",
        "colab": {
          "base_uri": "https://localhost:8080/",
          "height": 602
        },
        "outputId": "a548a90c-2386-4a21-f1b2-330d0bcd0286"
      },
      "source": [
        "fake_bigrams_series = (pd.Series(nltk.ngrams(fake_words, 2)).value_counts())[:12]\n",
        "real_bigrams_series = (pd.Series(nltk.ngrams(real_words, 2)).value_counts())[:12]\n",
        "\n",
        "trigrams_series = (pd.Series(nltk.ngrams(words, 3)).value_counts())[:12]\n",
        "fk = pd.DataFrame({'frequent words in fake':fake_bigrams_series.sort_values(), \n",
        "                   'frquenct words in real':real_bigrams_series.sort_values()})\n",
        "fk.plot.barh(figsize=(12,8), stacked=True)\n",
        "plt.title('20 Most Frequently Occuring Bigrams')\n",
        "plt.ylabel('Bigram')\n",
        "plt.xlabel('# of Occurences')"
      ],
      "execution_count": null,
      "outputs": [
        {
          "output_type": "execute_result",
          "data": {
            "text/plain": [
              "Text(0.5, 0, '# of Occurences')"
            ]
          },
          "metadata": {},
          "execution_count": 139
        },
        {
          "output_type": "display_data",
          "data": {
            "image/png": "[encoded data removed]",
            "text/plain": [
              "<Figure size 864x576 with 1 Axes>"
            ]
          },
          "metadata": {
            "needs_background": "light"
          }
        }
      ]
    },
    {
      "cell_type": "code",
      "metadata": {
        "id": "5GPIDSu9qw5V"
      },
      "source": [
        "for x in fake_words:\n",
        "  print(x)"
      ],
      "execution_count": null,
      "outputs": []
    }
  ]
}